{
 "cells": [
  {
   "cell_type": "code",
   "execution_count": 1,
   "metadata": {
    "collapsed": true
   },
   "outputs": [],
   "source": [
    "import numpy as np\n",
    "import itertools\n",
    "import pickle\n",
    "import os.path"
   ]
  },
  {
   "cell_type": "code",
   "execution_count": 2,
   "metadata": {
    "collapsed": true
   },
   "outputs": [],
   "source": [
    "# Function which checks whether the input state is a winning state.\n",
    "# playerIdx = 1 means the player is 'X', playerIdx = 2 means the player is 'O'\n",
    "def isWinningState(inState, playerIdx=1):\n",
    "    \n",
    "    # Check for horizontal win states\n",
    "    idx1 = 0\n",
    "    idx2 = 1\n",
    "    idx3 = 2\n",
    "    for i in xrange(3):\n",
    "        if (inState[idx1] == inState[idx2] == inState[idx3]) and inState[idx1] == playerIdx:\n",
    "            return True\n",
    "        \n",
    "        idx1 = idx1 + 3\n",
    "        idx2 = idx2 + 3\n",
    "        idx3 = idx3 + 3\n",
    "    \n",
    "    # Check for vertical win states\n",
    "    idx1 = 0\n",
    "    idx2 = 3\n",
    "    idx3 = 6\n",
    "    \n",
    "    for i in xrange(3):\n",
    "        if (inState[idx1] == inState[idx2] == inState[idx3]) and inState[idx1] == playerIdx:\n",
    "            return True\n",
    "        \n",
    "        idx1 = idx1 + 1\n",
    "        idx2 = idx2 + 1\n",
    "        idx3 = idx3 + 1\n",
    "    \n",
    "    # Check for diagonal win state 1\n",
    "    if (inState[0] == inState[4] == inState[8]) and inState[0] == playerIdx:\n",
    "        return True\n",
    "    \n",
    "    # Check for diagonal win state 2\n",
    "    if (inState[2] == inState[4] == inState[6]) and inState[2] == playerIdx:\n",
    "        return True\n",
    "    \n",
    "    # If we got to here, no win states were found\n",
    "    return False\n",
    "            "
   ]
  },
  {
   "cell_type": "code",
   "execution_count": 3,
   "metadata": {
    "collapsed": true
   },
   "outputs": [],
   "source": [
    "# Checks if this is a drawn state.\n",
    "# Note that this should be called AFTER checking if \n",
    "# this state is a winning state because this does no\n",
    "# explicit win check\n",
    "def isDrawn(state):\n",
    "    for i in xrange(9):\n",
    "        if state[i] == 0:\n",
    "            return False\n",
    "        \n",
    "    # If we get to here then it is a drawn game\n",
    "    return True"
   ]
  },
  {
   "cell_type": "code",
   "execution_count": 4,
   "metadata": {
    "collapsed": true
   },
   "outputs": [],
   "source": [
    "# Determines possible next states for the computer\n",
    "def nextStates(state, playerIdx=1):\n",
    "    nextStates = []\n",
    "    stateList = list(state)\n",
    "    for i in xrange(9):\n",
    "        if stateList[i] == 0:\n",
    "            newState = list(stateList)\n",
    "            newState[i] = playerIdx\n",
    "            nextStates.append(tuple(newState))\n",
    "            \n",
    "    return nextStates"
   ]
  },
  {
   "cell_type": "code",
   "execution_count": 5,
   "metadata": {
    "collapsed": true
   },
   "outputs": [],
   "source": [
    "# Takes a state as a tuple, e.g. (1, 0, 0, 1, 1, 0, 0, 0, 0)\n",
    "# and prints out the appearance of the board, e.g:\n",
    "#\n",
    "#           X  |      |    \n",
    "#           X  |   X  |    \n",
    "#              |      |\n",
    "def printBoardState(state):\n",
    "    idx = 0\n",
    "    lookup = {0: ' ', 1: 'X', 2: 'O'}\n",
    "    for i in xrange(3):\n",
    "        c0 = lookup[state[idx]]\n",
    "        c1 = lookup[state[idx+1]]\n",
    "        c2 = lookup[state[idx+2]]\n",
    "        if c0 == ' ':\n",
    "            c0 = str(idx)\n",
    "        if c1 == ' ':\n",
    "            c1 = str(idx + 1)\n",
    "        if c2 == ' ':\n",
    "            c2 = str(idx + 2)\n",
    "        print c0 + '\\t|\\t' + c1 + '\\t|\\t' + c2\n",
    "        idx = idx + 3"
   ]
  },
  {
   "cell_type": "code",
   "execution_count": 6,
   "metadata": {
    "collapsed": false
   },
   "outputs": [],
   "source": [
    "# Our computer will play player 1, i.e. it will play as 'X'\n",
    "# Create lookup table for all possible board states and set initial values to zero\n",
    "V = {}\n",
    "for combination in itertools.product(xrange(3), repeat=9):\n",
    "    if isWinningState(combination, 1):\n",
    "        V[combination] = 1.0\n",
    "    elif isDrawn(combination) or isWinningState(combination, 2):\n",
    "        V[combination] = 0.0\n",
    "    else:\n",
    "        V[combination] = 0.5"
   ]
  },
  {
   "cell_type": "code",
   "execution_count": 7,
   "metadata": {
    "collapsed": false
   },
   "outputs": [
    {
     "name": "stdout",
     "output_type": "stream",
     "text": [
      "Expored 52923 times\n",
      "Learned 1845056 times\n"
     ]
    }
   ],
   "source": [
    "nTrainingEpisodes = 1000000\n",
    "stepSize = 0.01\n",
    "exploreProbability = 0.4\n",
    "trainFromScratch = True\n",
    "trainAtAll = True\n",
    "\n",
    "# Load in a previously trained value table\n",
    "if not trainFromScratch and os.path.exists('valuetable.txt'):\n",
    "    print 'Loading pretrained file...'\n",
    "    with open('valuetable.txt', 'rb') as handle:\n",
    "        V = pickle.loads(handle.read())\n",
    "        \n",
    "tally1 = 0\n",
    "tally2 = 0\n",
    "\n",
    "if trainAtAll:\n",
    "    for i in xrange(nTrainingEpisodes):\n",
    "        # Initialise the game\n",
    "        curState = (0,0,0,0,0,0,0,0,0)\n",
    "        moveNum = 0\n",
    "        while True:\n",
    "            futureStates = nextStates(curState, 1)\n",
    "            nFutureStates = len(futureStates)\n",
    "            # Iterate through future states and find best one\n",
    "            # in terms of value function, V\n",
    "            maxValue = V[futureStates[0]]\n",
    "            maxIdx = 0\n",
    "            for j in xrange(nFutureStates):\n",
    "                if V[futureStates[j]] > maxValue:\n",
    "                    maxValue = V[futureStates[j]]\n",
    "                    maxIdx = j\n",
    "                    \n",
    "            # Explore suboptimal states with some probability\n",
    "            if np.random.uniform() < exploreProbability:\n",
    "                #print 'Explore step'\n",
    "                # Don't randomly explore if we are on the verge of a win\n",
    "                if abs(maxValue - 1.0) < 1e-12:\n",
    "                    newState = futureStates[maxIdx]\n",
    "                    V[curState] = V[curState] + stepSize * (V[newState] - V[curState]) \n",
    "                    #print V[curState]\n",
    "                    curState = newState\n",
    "                else:\n",
    "                    # Select a random state to explore\n",
    "                    randomStateIdx = int(nFutureStates * np.random.uniform())\n",
    "                    curState = futureStates[randomStateIdx]\n",
    "                    tally1 = tally1 + 1\n",
    "            else:\n",
    "                #print 'TD step'\n",
    "                # Perform Temporal Difference update: V(s) = V(s) + stepSize*[V(s') - V(s)]\n",
    "                newState = futureStates[maxIdx]\n",
    "                V[curState] = V[curState] + stepSize * (V[newState] - V[curState]) \n",
    "                #print V[curState]\n",
    "                curState = newState\n",
    "                tally2 = tally2 + 1\n",
    "                \n",
    "            #print curState\n",
    "            #printBoardState(curState)\n",
    "            #print ''\n",
    "\n",
    "            # Check if the game is over\n",
    "            if isWinningState(curState, 1):\n",
    "                #print 'X won'\n",
    "                break\n",
    "\n",
    "            # Check if game is drawn\n",
    "            if isDrawn(curState):\n",
    "                #print 'X drawn'\n",
    "                break\n",
    "            \n",
    "\n",
    "            # NOW PLAY AS THE OTHER PLAYER (i.e. player 2)\n",
    "            \n",
    "            futureStates = nextStates(curState, 2)\n",
    "            nFutureStates = len(futureStates)\n",
    "            # Iterate through future states and find best one\n",
    "            # in terms of value function, V\n",
    "            minValue = V[futureStates[0]]\n",
    "            minIdx = 0\n",
    "            for j in xrange(nFutureStates):\n",
    "                if V[futureStates[j]] < min:\n",
    "                    minValue = V[futureStates[j]]\n",
    "                    minIdx = j\n",
    "                    \n",
    "            # Explore suboptimal states with some probability\n",
    "            if np.random.uniform() < exploreProbability:\n",
    "                if abs(minValue - 0.0) < 1e-12:\n",
    "                    newState = futureStates[minIdx]\n",
    "                    V[curState] = V[curState] + stepSize * (V[newState] - V[curState]) \n",
    "                    curState = newState\n",
    "                # Select a random state to explore\n",
    "                randomStateIdx = int(nFutureStates * np.random.uniform())\n",
    "                curState = futureStates[randomStateIdx]\n",
    "            else:\n",
    "                        \n",
    "                newState = futureStates[minIdx]\n",
    "                V[curState] = V[curState] + stepSize * (V[newState] - V[curState]) \n",
    "                curState = newState\n",
    "            \n",
    "            #print curState\n",
    "            #printBoardState(curState)\n",
    "            #print ''\n",
    "\n",
    "            # Check if the game is over\n",
    "            if isWinningState(curState, 2):\n",
    "                #print 'O won'\n",
    "                break\n",
    "\n",
    "            # Check if game is drawn\n",
    "            if isDrawn(curState):\n",
    "                #print 'O drawn'\n",
    "                break\n",
    "                \n",
    "            moveNum = moveNum + 1\n",
    "            \n",
    "            \n",
    "    \n",
    "    print 'Expored ' + str(tally1) + ' times'\n",
    "    print 'Learned ' + str(tally2) + ' times'\n",
    "\n",
    "    # Save the value table to file\n",
    "    with open('valuetable.txt', 'wb') as handle:\n",
    "        pickle.dump(V, handle)"
   ]
  },
  {
   "cell_type": "code",
   "execution_count": 8,
   "metadata": {
    "collapsed": false,
    "scrolled": true
   },
   "outputs": [
    {
     "name": "stdout",
     "output_type": "stream",
     "text": [
      "1.0\n"
     ]
    }
   ],
   "source": [
    "print V[(1, 1, 0, 0, 2, 0, 0, 0, 2)]"
   ]
  },
  {
   "cell_type": "code",
   "execution_count": 10,
   "metadata": {
    "collapsed": false
   },
   "outputs": [
    {
     "name": "stdout",
     "output_type": "stream",
     "text": [
      "[(1, 0, 0, 0, 0, 0, 0, 0, 0), (0, 1, 0, 0, 0, 0, 0, 0, 0), (0, 0, 1, 0, 0, 0, 0, 0, 0), (0, 0, 0, 1, 0, 0, 0, 0, 0), (0, 0, 0, 0, 1, 0, 0, 0, 0), (0, 0, 0, 0, 0, 1, 0, 0, 0), (0, 0, 0, 0, 0, 0, 1, 0, 0), (0, 0, 0, 0, 0, 0, 0, 1, 0), (0, 0, 0, 0, 0, 0, 0, 0, 1)]\n",
      "0.909007709231\n",
      "0.779437519279\n",
      "0.793665092587\n",
      "0.793786485248\n",
      "0.619857596472\n",
      "0.801001705539\n",
      "0.787122520652\n",
      "0.659774579783\n",
      "X\t|\t1\t|\t2\n",
      "3\t|\t4\t|\t5\n",
      "6\t|\t7\t|\t8\n",
      "Please enter your move: 4\n",
      "[(1, 1, 0, 0, 2, 0, 0, 0, 0), (1, 0, 1, 0, 2, 0, 0, 0, 0), (1, 0, 0, 1, 2, 0, 0, 0, 0), (1, 0, 0, 0, 2, 1, 0, 0, 0), (1, 0, 0, 0, 2, 0, 1, 0, 0), (1, 0, 0, 0, 2, 0, 0, 1, 0), (1, 0, 0, 0, 2, 0, 0, 0, 1)]\n",
      "0.911165897392\n",
      "0.885951506137\n",
      "0.630566028236\n",
      "0.889579653384\n",
      "0.547001320071\n",
      "0.559601151042\n",
      "X\t|\tX\t|\t2\n",
      "3\t|\tO\t|\t5\n",
      "6\t|\t7\t|\t8\n",
      "Please enter your move: 2\n",
      "[(1, 1, 2, 1, 2, 0, 0, 0, 0), (1, 1, 2, 0, 2, 1, 0, 0, 0), (1, 1, 2, 0, 2, 0, 1, 0, 0), (1, 1, 2, 0, 2, 0, 0, 1, 0), (1, 1, 2, 0, 2, 0, 0, 0, 1)]\n",
      "0.581595851636\n",
      "0.999993352706\n",
      "0.141127971051\n",
      "0.538278913446\n",
      "X\t|\tX\t|\tO\n",
      "3\t|\tO\t|\t5\n",
      "X\t|\t7\t|\t8\n",
      "Please enter your move: 3\n",
      "[(1, 1, 2, 2, 2, 1, 1, 0, 0), (1, 1, 2, 2, 2, 0, 1, 1, 0), (1, 1, 2, 2, 2, 0, 1, 0, 1)]\n",
      "0.413978800195\n",
      "0.414807354327\n",
      "X\t|\tX\t|\tO\n",
      "O\t|\tO\t|\tX\n",
      "X\t|\t7\t|\t8\n",
      "Please enter your move: 8\n",
      "[(1, 1, 2, 2, 2, 1, 1, 1, 2)]\n",
      "X\t|\tX\t|\tO\n",
      "O\t|\tO\t|\tX\n",
      "X\t|\tX\t|\tO\n",
      "Game Over! Drawn.\n"
     ]
    }
   ],
   "source": [
    "# ********* Play against the computer **********\n",
    "# Initialise the game\n",
    "curState = (0,0,0,0,0,0,0,0,0)\n",
    "while True:\n",
    "    # Iterate through future states and find best one\n",
    "    # in terms of value function, V\n",
    "    futureStates = nextStates(curState)\n",
    "    nFutureStates = len(futureStates)\n",
    "    maxValue = V[futureStates[0]]\n",
    "    maxIdx = 0\n",
    "    print futureStates\n",
    "    for j in xrange(1, nFutureStates):\n",
    "        print V[futureStates[j]]\n",
    "        if V[futureStates[j]] > maxValue:\n",
    "            maxValue = V[futureStates[j]]\n",
    "            maxIdx = j\n",
    "\n",
    "    curState = futureStates[maxIdx]\n",
    "    \n",
    "    printBoardState(curState)\n",
    "\n",
    "    # Check if the game is over\n",
    "    if isWinningState(curState, 1):\n",
    "        print 'Game Over! Bot Wins!'\n",
    "        break\n",
    "\n",
    "    # Check if game is drawn\n",
    "    if isDrawn(curState):\n",
    "        print 'Game Over! Drawn.'\n",
    "        break\n",
    "    \n",
    "    # Ask the user what their move is\n",
    "    userMoveIdx = raw_input('Please enter your move: ')\n",
    "    curStateList = list(curState)\n",
    "    curStateList[int(userMoveIdx)] = 2\n",
    "    curState = tuple(curStateList)\n",
    "    \n",
    "        # Check if the game is over\n",
    "    if isWinningState(curState, 2):\n",
    "        print 'Game Over! You Win!'\n",
    "        break\n",
    "\n",
    "    # Check if game is drawn\n",
    "    if isDrawn(curState):\n",
    "        print 'Game Over! Drawn.'\n",
    "        break\n",
    "        \n",
    "    "
   ]
  },
  {
   "cell_type": "markdown",
   "metadata": {
    "collapsed": false
   },
   "source": [
    "#### V[(1, 1, 0, 0, 0, 0, 0, 0, 2)]"
   ]
  },
  {
   "cell_type": "code",
   "execution_count": 140,
   "metadata": {
    "collapsed": false
   },
   "outputs": [
    {
     "name": "stdout",
     "output_type": "stream",
     "text": [
      "[(1, 1, 1, 0, 0, 0, 1, 2, 2), (1, 1, 0, 1, 0, 0, 1, 2, 2), (1, 1, 0, 0, 1, 0, 1, 2, 2), (1, 1, 0, 0, 0, 1, 1, 2, 2)]\n"
     ]
    }
   ],
   "source": [
    "print nextStates((1, 1, 0, 0, 0, 0, 1, 2, 2))"
   ]
  },
  {
   "cell_type": "code",
   "execution_count": 141,
   "metadata": {
    "collapsed": false
   },
   "outputs": [
    {
     "name": "stdout",
     "output_type": "stream",
     "text": [
      "1.0\n"
     ]
    }
   ],
   "source": [
    "print V[(1, 1, 1, 0, 0, 0, 1, 2, 2)]\n",
    "print V[]"
   ]
  },
  {
   "cell_type": "code",
   "execution_count": 22,
   "metadata": {
    "collapsed": false
   },
   "outputs": [
    {
     "name": "stdout",
     "output_type": "stream",
     "text": [
      "X\t|\tO\t|\tX\n",
      "X\t|\tX\t|\t5\n",
      "O\t|\t7\t|\tO\n"
     ]
    }
   ],
   "source": [
    "printBoardState((1, 2, 1, 1, 1, 0, 2, 0, 2))"
   ]
  },
  {
   "cell_type": "code",
   "execution_count": null,
   "metadata": {
    "collapsed": true
   },
   "outputs": [],
   "source": []
  }
 ],
 "metadata": {
  "kernelspec": {
   "display_name": "Python 2",
   "language": "python",
   "name": "python2"
  },
  "language_info": {
   "codemirror_mode": {
    "name": "ipython",
    "version": 2
   },
   "file_extension": ".py",
   "mimetype": "text/x-python",
   "name": "python",
   "nbconvert_exporter": "python",
   "pygments_lexer": "ipython2",
   "version": "2.7.12"
  }
 },
 "nbformat": 4,
 "nbformat_minor": 1
}

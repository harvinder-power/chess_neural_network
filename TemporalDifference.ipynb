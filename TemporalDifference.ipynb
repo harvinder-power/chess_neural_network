{
 "cells": [
  {
   "cell_type": "code",
   "execution_count": 1,
   "metadata": {
    "collapsed": true
   },
   "outputs": [],
   "source": [
    "import numpy as np\n",
    "import itertools"
   ]
  },
  {
   "cell_type": "code",
   "execution_count": 21,
   "metadata": {
    "collapsed": true
   },
   "outputs": [],
   "source": [
    "# Function which checks whether the input state is a winning state.\n",
    "# playerIdx = 1 means the player is 'X', playerIdx = 2 means the player is 'O'\n",
    "def isWinningState(inState, playerIdx=1):\n",
    "    \n",
    "    # Check for horizontal win states\n",
    "    idx1 = 0\n",
    "    idx2 = 1\n",
    "    idx3 = 2\n",
    "    for i in xrange(3):\n",
    "        if (inState[idx1] == inState[idx2] == inState[idx3]) and inState[idx1] == playerIdx:\n",
    "            return True\n",
    "        \n",
    "        idx1 = idx1 + 3\n",
    "        idx2 = idx2 + 3\n",
    "        idx3 = idx3 + 3\n",
    "    \n",
    "    # Check for vertical win states\n",
    "    idx1 = 0\n",
    "    idx2 = 3\n",
    "    idx3 = 6\n",
    "    \n",
    "    for i in xrange(3):\n",
    "        if (inState[idx1] == inState[idx2] == inState[idx3]) and inState[idx1] == playerIdx:\n",
    "            return True\n",
    "        \n",
    "        idx1 = idx1 + 1\n",
    "        idx2 = idx2 + 1\n",
    "        idx3 = idx3 + 1\n",
    "    \n",
    "    # Check for diagonal win state 1\n",
    "    if (inState[0] == inState[4] == inState[8]) and inState[0] == playerIdx:\n",
    "        return True\n",
    "    \n",
    "    # Check for diagonal win state 2\n",
    "    if (inState[2] == inState[4] == inState[6]) and inState[2] == playerIdx:\n",
    "        return True\n",
    "    \n",
    "    # If we got to here, no win states were found\n",
    "    return False\n",
    "            "
   ]
  },
  {
   "cell_type": "code",
   "execution_count": 42,
   "metadata": {
    "collapsed": true
   },
   "outputs": [],
   "source": [
    "# Checks if this is a drawn state.\n",
    "# Note that this should be called AFTER checking if \n",
    "# this state is a winning state because this does no\n",
    "# explicit win check\n",
    "def isDrawn(state):\n",
    "    for i in xrange(9):\n",
    "        if state[i] == 0:\n",
    "            return False\n",
    "        \n",
    "    # If we get to here then it is a drawn game\n",
    "    return True"
   ]
  },
  {
   "cell_type": "code",
   "execution_count": 54,
   "metadata": {
    "collapsed": true
   },
   "outputs": [],
   "source": [
    "# Determines possible next states for the computer\n",
    "def nextStates(state, playerIdx=1):\n",
    "    nextStates = []\n",
    "    stateList = list(state)\n",
    "    for i in xrange(9):\n",
    "        if stateList[i] == 0:\n",
    "            newState = list(stateList)\n",
    "            newState[i] = playerIdx\n",
    "            nextStates.append(tuple(newState))\n",
    "            \n",
    "    return nextStates"
   ]
  },
  {
   "cell_type": "code",
   "execution_count": 40,
   "metadata": {
    "collapsed": true
   },
   "outputs": [],
   "source": [
    "# Takes a state as a tuple, e.g. (1, 0, 0, 1, 1, 0, 0, 0, 0)\n",
    "# and prints out the appearance of the board, e.g:\n",
    "#\n",
    "#           X  |      |    \n",
    "#           X  |   X  |    \n",
    "#              |      |\n",
    "def printBoardState(state):\n",
    "    idx = 0\n",
    "    lookup = {0: ' ', 1: 'X', 2: 'O'}\n",
    "    for i in xrange(3):\n",
    "        c0 = lookup[state[idx]]\n",
    "        c1 = lookup[state[idx+1]]\n",
    "        c2 = lookup[state[idx+2]]\n",
    "        print c0 + '\\t|\\t' + c1 + '\\t|\\t' + c2\n",
    "        idx = idx + 3"
   ]
  },
  {
   "cell_type": "code",
   "execution_count": 33,
   "metadata": {
    "collapsed": false
   },
   "outputs": [],
   "source": [
    "# Our computer will play player 1, i.e. it will play as 'X'\n",
    "playerIdx = 1\n",
    "# Create lookup table for all possible board states and set initial values to zero\n",
    "V = {}\n",
    "for combination in itertools.product(xrange(3), repeat=9):\n",
    "    if (isWinningState(combination, playerIdx)):\n",
    "        V[combination] = 1.0\n",
    "    else:\n",
    "        V[combination] = 0.0"
   ]
  },
  {
   "cell_type": "code",
   "execution_count": 43,
   "metadata": {
    "collapsed": false
   },
   "outputs": [
    {
     "ename": "IndentationError",
     "evalue": "expected an indented block (<ipython-input-43-0b01ee144634>, line 9)",
     "output_type": "error",
     "traceback": [
      "\u001b[0;36m  File \u001b[0;32m\"<ipython-input-43-0b01ee144634>\"\u001b[0;36m, line \u001b[0;32m9\u001b[0m\n\u001b[0;31m    \u001b[0m\n\u001b[0m    ^\u001b[0m\n\u001b[0;31mIndentationError\u001b[0m\u001b[0;31m:\u001b[0m expected an indented block\n"
     ]
    }
   ],
   "source": [
    "nTrainingEpisodes = 1\n",
    "stepSize = 0.1\n",
    "exploreProbability = 0.1\n",
    "\n",
    "for i in xrange(nTrainingEpisodes):\n",
    "    # Initialise the game\n",
    "    curState = (0,0,0,0,0,0,0,0,0)\n",
    "    while True:\n",
    "        futureStates = nextStates(curState)\n",
    "        nFutureStates = len(futureStates)\n",
    "        # Explore suboptimal states with some probability\n",
    "        if np.random.uniform() < exploreProbability:\n",
    "            # Select a random state to explore\n",
    "            randomStateIdx = int(nFutureStates * np.random.uniform())\n",
    "            curState = futureStates[randomStateIdx]\n",
    "        else:\n",
    "            # Iterate through future states and find best one\n",
    "            # in terms of value function, V\n",
    "            maxValue = V[futureStates[0]]\n",
    "            maxIdx = 0\n",
    "            for j in xrange(nFutureStates):\n",
    "                if V[futureStates[j]] > maxValue:\n",
    "                    maxValue = V[futureStates[j]]\n",
    "                    maxIdx = j\n",
    "            \n",
    "            \n",
    "        \n",
    "        "
   ]
  },
  {
   "cell_type": "code",
   "execution_count": 47,
   "metadata": {
    "collapsed": false
   },
   "outputs": [
    {
     "data": {
      "text/plain": [
       "(1, 55, 1)"
      ]
     },
     "execution_count": 47,
     "metadata": {},
     "output_type": "execute_result"
    }
   ],
   "source": [
    "x = (1,1,1)\n",
    "y = list(x)\n",
    "y[1] = 55\n",
    "x = tuple(y)\n",
    "x"
   ]
  },
  {
   "cell_type": "code",
   "execution_count": 55,
   "metadata": {
    "collapsed": false
   },
   "outputs": [],
   "source": [
    "possNextStates = nextStates((0,0,0,0,0,0,0,0,0))"
   ]
  },
  {
   "cell_type": "code",
   "execution_count": 56,
   "metadata": {
    "collapsed": false
   },
   "outputs": [
    {
     "name": "stdout",
     "output_type": "stream",
     "text": [
      "[(1, 0, 0, 0, 0, 0, 0, 0, 0), (0, 1, 0, 0, 0, 0, 0, 0, 0), (0, 0, 1, 0, 0, 0, 0, 0, 0), (0, 0, 0, 1, 0, 0, 0, 0, 0), (0, 0, 0, 0, 1, 0, 0, 0, 0), (0, 0, 0, 0, 0, 1, 0, 0, 0), (0, 0, 0, 0, 0, 0, 1, 0, 0), (0, 0, 0, 0, 0, 0, 0, 1, 0), (0, 0, 0, 0, 0, 0, 0, 0, 1)]\n"
     ]
    }
   ],
   "source": [
    "len(possNextStates)\n",
    "print possNextStates"
   ]
  },
  {
   "cell_type": "code",
   "execution_count": 61,
   "metadata": {
    "collapsed": true
   },
   "outputs": [],
   "source": [
    "uniformDist = np.random.uniform()"
   ]
  },
  {
   "cell_type": "code",
   "execution_count": 62,
   "metadata": {
    "collapsed": false
   },
   "outputs": [
    {
     "data": {
      "text/plain": [
       "0.047265481263974674"
      ]
     },
     "execution_count": 62,
     "metadata": {},
     "output_type": "execute_result"
    }
   ],
   "source": [
    "uniformDist"
   ]
  },
  {
   "cell_type": "code",
   "execution_count": 180,
   "metadata": {
    "collapsed": false
   },
   "outputs": [
    {
     "data": {
      "text/plain": [
       "8"
      ]
     },
     "execution_count": 180,
     "metadata": {},
     "output_type": "execute_result"
    }
   ],
   "source": [
    "int(9 * np.random.uniform())"
   ]
  },
  {
   "cell_type": "code",
   "execution_count": null,
   "metadata": {
    "collapsed": true
   },
   "outputs": [],
   "source": []
  }
 ],
 "metadata": {
  "kernelspec": {
   "display_name": "Python 2",
   "language": "python",
   "name": "python2"
  },
  "language_info": {
   "codemirror_mode": {
    "name": "ipython",
    "version": 2
   },
   "file_extension": ".py",
   "mimetype": "text/x-python",
   "name": "python",
   "nbconvert_exporter": "python",
   "pygments_lexer": "ipython2",
   "version": "2.7.12"
  }
 },
 "nbformat": 4,
 "nbformat_minor": 1
}
